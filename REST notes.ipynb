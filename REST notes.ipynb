{
 "cells": [
  {
   "cell_type": "markdown",
   "metadata": {},
   "source": [
    "# RESTful Web Services \n",
    "\n",
    "## Fundamentals \n",
    "\n",
    "What is a web service? \n",
    "- services exposed to the internet for programmatic access, an online API you can call from your code \n",
    "\n",
    "Web service characteristics\n",
    "- an exchange of data that happens over the web: client sends a request, server sends a response \n",
    "- this exchange happens through protocols  \n",
    "\n",
    "Service definition \n",
    "- definition of a service. In Java, to use a class, you'd have to know the name of the class, it's functions, certain definitions to use it. \n",
    "- RESTful Web services have **no** service definition \n",
    "\n",
    "REST is not a web service design, it's an architectural design\n",
    "- The goal is to make a web service as easy for the user\n",
    "\n",
    "---\n",
    "\n",
    "Hypertext \n",
    "- a structured form of text that has logical links to other texts, known as hyperlinks  \n",
    "\n",
    "Resource Locations \n",
    "-  REST APIs have URLs and addresses similar to websites  \n",
    "    - the practice is to have resource-based addresses \n",
    "    - Resource-based addresses \n",
    "        - contain only the resource, and are independent of the implementation \n",
    "- resource-based URI \n",
    "\n",
    "URI vs URL \n",
    "- URI is a string of characters that identifies an abstract or physical resource \n",
    "- URL is a subset of URIs such that, in addition to identifying a resource, provides a means to locate the resource by describing its primary access mechanism (like http:// )\n",
    "\n",
    "HTTP Methods\n",
    "- GET/PUT/POST/DELETE \n",
    "\n",
    "Metadata \n",
    "- HTTP status code \n",
    "- content type: format of the message. Popular types are XML and JSON  \n",
    "        - the format outputted depends on what the client says they want through content negotiation \n",
    "        \n",
    "Content Negotiation \n",
    "- a negotiation between client and server determining what type the content will be that the client will receive from the server \n",
    "\n",
    "---\n"
   ]
  },
  {
   "cell_type": "markdown",
   "metadata": {},
   "source": [
    "## Understanding REST API Design \n",
    "\n",
    "Resource based URI \n",
    "- nouns, not verbs \n",
    "- profile/{profileName}\n",
    "- benefits of resource-based URI:\n",
    "    - not dependent on any framework \n",
    "    \n",
    "Resource relations \n",
    "- one-to-many relationship. for example: /messages/{messageId}/comments/{commentId}\n",
    "    - cool things: establishes a relationship between messages and comments \n",
    "    - not-cool things: you'll need to know what the messageId and the commentId is for each comment \n",
    "    \n",
    "Which approach you take depends on what you expect the client to know"
   ]
  },
  {
   "cell_type": "markdown",
   "metadata": {},
   "source": [
    "---\n",
    "Resource URIs - Collection resource URIs\n",
    "- a collection of a bunch of instance messages with some directory as root\n",
    "    - /messages or /messages/{messageId}/comments\n",
    "- query parameters for pagination and filtering collections "
   ]
  },
  {
   "cell_type": "markdown",
   "metadata": {},
   "source": [
    "---\n",
    "\n",
    "## HTTP Methods \n",
    "\n",
    "The method for using the URI is separate from the URI name. For REST, the HTTP method is abstracted out of the URI \n",
    "- it's /messages/10 as opposed to /getMessages.do?id=10 \n",
    "\n",
    "## PUT vs POST \n",
    "\n"
   ]
  }
 ],
 "metadata": {
  "kernelspec": {
   "display_name": "Python [conda env:Miniconda3]",
   "language": "python",
   "name": "conda-env-Miniconda3-py"
  },
  "language_info": {
   "codemirror_mode": {
    "name": "ipython",
    "version": 3
   },
   "file_extension": ".py",
   "mimetype": "text/x-python",
   "name": "python",
   "nbconvert_exporter": "python",
   "pygments_lexer": "ipython3",
   "version": "3.6.3"
  }
 },
 "nbformat": 4,
 "nbformat_minor": 2
}
